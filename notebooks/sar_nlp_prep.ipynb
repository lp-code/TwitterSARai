{
 "cells": [
  {
   "cell_type": "code",
   "execution_count": 1,
   "metadata": {
    "ExecuteTime": {
     "end_time": "2019-12-10T05:39:30.104910Z",
     "start_time": "2019-12-10T05:39:28.974023Z"
    }
   },
   "outputs": [],
   "source": [
    "# Run from command line by:\n",
    "# jupyter nbconvert --ExecutePreprocessor.timeout=600 --to notebook --execute sar_nlp_prep.ipynb --output sar_nlp_prep_out.ipynb\n",
    "%reload_ext autoreload\n",
    "%autoreload 2\n",
    "%matplotlib inline"
   ]
  },
  {
   "cell_type": "code",
   "execution_count": 2,
   "metadata": {
    "ExecuteTime": {
     "end_time": "2019-12-10T05:39:36.911385Z",
     "start_time": "2019-12-10T05:39:30.106811Z"
    }
   },
   "outputs": [],
   "source": [
    "import matplotlib.pyplot as plt\n",
    "import numpy as np\n",
    "import pandas as pd\n",
    "import re\n",
    "import scipy\n",
    "from sklearn import metrics\n",
    "\n",
    "\n",
    "from fastai import *\n",
    "from fastai.datasets import *\n",
    "from fastai.text import *"
   ]
  },
  {
   "cell_type": "markdown",
   "metadata": {},
   "source": [
    "## Preprocessing function to split into tags and doc"
   ]
  },
  {
   "cell_type": "code",
   "execution_count": 3,
   "metadata": {
    "ExecuteTime": {
     "end_time": "2019-12-10T05:39:38.319813Z",
     "start_time": "2019-12-10T05:39:36.914283Z"
    }
   },
   "outputs": [
    {
     "name": "stdout",
     "output_type": "stream",
     "text": [
      " -- Det er stadfesta at personen har vore åleine ombord. Redningsaksjonen vert avslutta.\n",
      "Åsebø|Askøy -- Fv 562 ved  på  kl. 1920. Ein stor stein, tippa til rundt 100 kg, hadde rase ned i vegen. Ein bil køyrde på denne. Ikkje personskade, men marerielle skadar på bilen. Politiet har vore på staden, og entreprenør har rydda vegen.\n",
      " -- Politiet på stedet. Bilen er fjernet. Trafikken flyter som normalt.\n",
      "Moskogen -- E39. Meld om trafikkuhell. Ein bil involvert. Ikkje meld om personskade. Politiet på veg til staden.\n",
      "Nordfjord|Stryn|Langeset|RV15 -- Meldt om trafikkulykke, personbil som har kjørt inn i vogntog. Fører av personbilen er bevisst. Det er glatt veibane, store trafikale problemer.\n"
     ]
    }
   ],
   "source": [
    "def split_into_tags_and_doc(tweet):\n",
    "    tweet = tweet.replace(\"@Hordalandpoliti\", \"\") # in old twitter account tweets\n",
    "    tag_list = re.findall(\"#(\\w+)\", tweet)\n",
    "    for tag in tag_list:\n",
    "        tweet = tweet.replace(\"#\" + tag, \"\")\n",
    "    return \"|\".join(tag_list), re.sub(\"^[\\W0-9]*\", \"\", tweet)  # remove leading non-text\n",
    "\n",
    "# Test this on a few tweets:\n",
    "tweets = [\n",
    "    \"@Hordalandpoliti Det er stadfesta at personen har vore åleine ombord. Redningsaksjonen vert avslutta.\",\n",
    "    \"Fv 562 ved #Åsebø på #Askøy kl. 1920. Ein stor stein, tippa til rundt 100 kg, hadde rase ned i vegen. Ein bil køyrde på denne. Ikkje personskade, men marerielle skadar på bilen. Politiet har vore på staden, og entreprenør har rydda vegen.\",\n",
    "    \"Politiet på stedet. Bilen er fjernet. Trafikken flyter som normalt.\",\n",
    "    \"#Moskogen, E39. Meld om trafikkuhell. Ein bil involvert. Ikkje meld om personskade. Politiet på veg til staden.\",\n",
    "    \"#Nordfjord,#Stryn, #Langeset, #RV15 Meldt om trafikkulykke, personbil som har kjørt inn i vogntog. Fører av personbilen er bevisst. Det er glatt veibane, store trafikale problemer.\"\n",
    "]\n",
    "for tweet in tweets:\n",
    "    tag_list, doc = split_into_tags_and_doc(tweet)\n",
    "    print(tag_list, \"--\", doc)"
   ]
  },
  {
   "cell_type": "markdown",
   "metadata": {
    "ExecuteTime": {
     "end_time": "2019-11-30T19:01:37.828939Z",
     "start_time": "2019-11-30T19:01:36.466931Z"
    }
   },
   "source": [
    "## Read data and preprocess"
   ]
  },
  {
   "cell_type": "code",
   "execution_count": 4,
   "metadata": {
    "ExecuteTime": {
     "end_time": "2019-12-10T05:39:39.669125Z",
     "start_time": "2019-12-10T05:39:38.323808Z"
    }
   },
   "outputs": [],
   "source": [
    "xlsx_name = r\"..\\data\\raw\\vicinitas_user_tweets_vest_scoring_layout.xlsx\""
   ]
  },
  {
   "cell_type": "code",
   "execution_count": 5,
   "metadata": {
    "ExecuteTime": {
     "end_time": "2019-12-10T05:39:42.985014Z",
     "start_time": "2019-12-10T05:39:39.671123Z"
    }
   },
   "outputs": [],
   "source": [
    "df_xlsx = pd.read_excel(xlsx_name,\n",
    "                        sheet_name=\"tweets\",\n",
    "                        header=0,\n",
    "                        usecols=[\"i_man\", \"i_alg\", \"Text\"],\n",
    "                        dtype= {\"Text\": str, \"i_man\": np.float32})  # float to accomodate nan\n",
    "df_xlsx.dropna(inplace=True)  # in practice: drop rows without an i_man label\n",
    "df_xlsx.drop(df_xlsx[df_xlsx[\"i_alg\"] == 0].index, inplace=True)\n",
    "df_xlsx = df_xlsx.astype({\"i_man\": np.int8})\n",
    "df_xlsx[\"tags\"], df_xlsx[\"doc\"] = zip(*df_xlsx[\"Text\"].map(split_into_tags_and_doc))\n",
    "df_xlsx.drop(columns=\"Text\", inplace=True)"
   ]
  },
  {
   "cell_type": "code",
   "execution_count": 6,
   "metadata": {
    "ExecuteTime": {
     "end_time": "2019-12-10T05:39:44.304070Z",
     "start_time": "2019-12-10T05:39:42.985995Z"
    },
    "scrolled": true
   },
   "outputs": [
    {
     "data": {
      "text/html": [
       "<div>\n",
       "<style scoped>\n",
       "    .dataframe tbody tr th:only-of-type {\n",
       "        vertical-align: middle;\n",
       "    }\n",
       "\n",
       "    .dataframe tbody tr th {\n",
       "        vertical-align: top;\n",
       "    }\n",
       "\n",
       "    .dataframe thead th {\n",
       "        text-align: right;\n",
       "    }\n",
       "</style>\n",
       "<table border=\"1\" class=\"dataframe\">\n",
       "  <thead>\n",
       "    <tr style=\"text-align: right;\">\n",
       "      <th></th>\n",
       "      <th>i_man</th>\n",
       "      <th>i_alg</th>\n",
       "      <th>tags</th>\n",
       "      <th>doc</th>\n",
       "    </tr>\n",
       "  </thead>\n",
       "  <tbody>\n",
       "    <tr>\n",
       "      <th>9338</th>\n",
       "      <td>0</td>\n",
       "      <td>0.111111</td>\n",
       "      <td>Bergen|Nygårdsbroen</td>\n",
       "      <td>Bilen er borte fra stedet. Fri ferdsel.</td>\n",
       "    </tr>\n",
       "    <tr>\n",
       "      <th>9382</th>\n",
       "      <td>0</td>\n",
       "      <td>0.023256</td>\n",
       "      <td>Askøy|Ask</td>\n",
       "      <td>Melder ser ein person som går inn i vedskjulet...</td>\n",
       "    </tr>\n",
       "    <tr>\n",
       "      <th>9430</th>\n",
       "      <td>0</td>\n",
       "      <td>0.055556</td>\n",
       "      <td></td>\n",
       "      <td>Den skadde har blitt fraktet vekk fra stedet m...</td>\n",
       "    </tr>\n",
       "    <tr>\n",
       "      <th>9467</th>\n",
       "      <td>1</td>\n",
       "      <td>0.034483</td>\n",
       "      <td>Bergen</td>\n",
       "      <td>Byfjorden. Meldt om båt som går i ring ved Heg...</td>\n",
       "    </tr>\n",
       "    <tr>\n",
       "      <th>9469</th>\n",
       "      <td>0</td>\n",
       "      <td>0.043478</td>\n",
       "      <td></td>\n",
       "      <td>Oppdatering: RV52 blir stengt en periode i for...</td>\n",
       "    </tr>\n",
       "  </tbody>\n",
       "</table>\n",
       "</div>"
      ],
      "text/plain": [
       "      i_man     i_alg                 tags  \\\n",
       "9338      0  0.111111  Bergen|Nygårdsbroen   \n",
       "9382      0  0.023256            Askøy|Ask   \n",
       "9430      0  0.055556                        \n",
       "9467      1  0.034483               Bergen   \n",
       "9469      0  0.043478                        \n",
       "\n",
       "                                                    doc  \n",
       "9338            Bilen er borte fra stedet. Fri ferdsel.  \n",
       "9382  Melder ser ein person som går inn i vedskjulet...  \n",
       "9430  Den skadde har blitt fraktet vekk fra stedet m...  \n",
       "9467  Byfjorden. Meldt om båt som går i ring ved Heg...  \n",
       "9469  Oppdatering: RV52 blir stengt en periode i for...  "
      ]
     },
     "execution_count": 6,
     "metadata": {},
     "output_type": "execute_result"
    }
   ],
   "source": [
    "df_xlsx.tail()"
   ]
  },
  {
   "cell_type": "code",
   "execution_count": 7,
   "metadata": {
    "ExecuteTime": {
     "end_time": "2019-12-10T05:39:45.766154Z",
     "start_time": "2019-12-10T05:39:44.307074Z"
    }
   },
   "outputs": [
    {
     "name": "stdout",
     "output_type": "stream",
     "text": [
      "Total number of tweets:   819\n",
      "Positive fraction:       50.1%\n"
     ]
    }
   ],
   "source": [
    "print(f\"Total number of tweets: {len(df_xlsx):5}\")\n",
    "print(f\"Positive fraction:      {100 * df_xlsx.mean()['i_man']:5.1f}%\")"
   ]
  },
  {
   "cell_type": "markdown",
   "metadata": {
    "ExecuteTime": {
     "end_time": "2019-12-01T08:55:18.491289Z",
     "start_time": "2019-12-01T08:55:16.629477Z"
    }
   },
   "source": [
    "Create the FastAI datastructure."
   ]
  },
  {
   "cell_type": "code",
   "execution_count": 8,
   "metadata": {
    "ExecuteTime": {
     "end_time": "2019-12-10T05:40:23.391042Z",
     "start_time": "2019-12-10T05:39:45.768149Z"
    }
   },
   "outputs": [],
   "source": [
    "tweets = (TextList.from_df(df_xlsx, cols='doc')\n",
    "          .split_by_rand_pct(seed=42)\n",
    "          .label_from_df(cols=0))"
   ]
  },
  {
   "cell_type": "markdown",
   "metadata": {},
   "source": [
    "## Explore the created data structure"
   ]
  },
  {
   "cell_type": "code",
   "execution_count": 9,
   "metadata": {
    "ExecuteTime": {
     "end_time": "2019-12-10T05:40:24.767753Z",
     "start_time": "2019-12-10T05:40:23.400043Z"
    }
   },
   "outputs": [
    {
     "data": {
      "text/plain": [
       "(Text xxbos xxmaj gutten er kommet til rette . https : / / t.co / xxunk,\n",
       " Category 1)"
      ]
     },
     "execution_count": 9,
     "metadata": {},
     "output_type": "execute_result"
    }
   ],
   "source": [
    "# Display a single tweet and its category (0: not interesting, 1: interesting).\n",
    "tweets.x[101], tweets.y[101]"
   ]
  },
  {
   "cell_type": "code",
   "execution_count": 10,
   "metadata": {
    "ExecuteTime": {
     "end_time": "2019-12-10T05:40:26.295821Z",
     "start_time": "2019-12-10T05:40:24.771721Z"
    }
   },
   "outputs": [
    {
     "name": "stdout",
     "output_type": "stream",
     "text": [
      "Number of items per category and data set:\n",
      "      |   0   |   1   |   sum\n",
      "------+-------+-------+-------\n",
      "train |   332 |   324 |   656\n",
      "valid |    77 |    86 |   163\n",
      "\n"
     ]
    }
   ],
   "source": [
    "trn = pd.value_counts(tweets.train.y.items, sort=False)\n",
    "val = pd.value_counts(tweets.valid.y.items, sort=False)\n",
    "print(f\"\"\"Number of items per category and data set:\n",
    "      |   0   |   1   |   sum\n",
    "------+-------+-------+-------\n",
    "train |{trn[0]:6} |{trn[1]:6} |{sum(trn):6}\n",
    "valid |{val[0]:6} |{val[1]:6} |{sum(val):6}\n",
    "\"\"\")"
   ]
  },
  {
   "cell_type": "code",
   "execution_count": 11,
   "metadata": {
    "ExecuteTime": {
     "end_time": "2019-12-10T05:40:27.784818Z",
     "start_time": "2019-12-10T05:40:26.299819Z"
    }
   },
   "outputs": [
    {
     "name": "stdout",
     "output_type": "stream",
     "text": [
      "Number of tokens represented:       800\n",
      "Number of words in original data:  3292\n"
     ]
    }
   ],
   "source": [
    "print(f\"Number of tokens represented:     {len(tweets.vocab.itos):5}\\n\"\n",
    "      f\"Number of words in original data: {len(tweets.vocab.stoi):5}\")"
   ]
  },
  {
   "cell_type": "code",
   "execution_count": 12,
   "metadata": {
    "ExecuteTime": {
     "end_time": "2019-12-10T05:40:29.350819Z",
     "start_time": "2019-12-10T05:40:27.787818Z"
    }
   },
   "outputs": [
    {
     "name": "stdout",
     "output_type": "stream",
     "text": [
      "['xxunk', 'chihuahua', 'hann', 'kremhvit', 'joker', 'butikken', 'ikledd', 'rødt', 'hundedekken', 'overbitt', 'fleire', 'stadfesta', 'åleine', 'avslutta', 'katt', 'lodden', 'skansen', 'tjeldstø', 'seaking', '0034', 'bygning', 'tyssedal', 'sjekket', 'tyske', 'turstier', 'disponerte', 'akt', 'svartefjorden', 'fana', 'myrdalsvegen', 'elektrisk', 'rullestol', 'slik', 'bruker', 'får', '0048', 'kastet', 'brostein', 'leilighet', 'erkjent', '0224', 'siktet', 'melkeplassen', 'fauskanger', 'n.askøy', 'campingbil', 'fjellveggen', 'tilsees', 'opplyste', 'sovnet', 'ibsens', '85', 'klesdrakt', 'tynt', 'lengde', 'halsen', 'bekledning', 'knapper', 'meldingar', 'lause', 'hestar', 'e16', 'savnar', 'åsheimsvegen', 'hester', 'ville', 'vegar', 'eigaren', '21', 'vidden', 'kurs', 'kommunikasjon', 'underveis', 'arnanipatunnelen', 'songstadtunnelen', 'køer', 'løses', 'danmarksplass', 'spebygd', 'kari', 'traa', 'ullundertrøye', 'stemmevatnet', 'stemmevannet', 'haukelitunnelen', 'mannleg', 'gravid', 'mogleg', 'stengd', 'kolltveit', 'unndra', 'fremstilles', 'ruskjøring', 'si', 'merke', 'venstre', 'øye', 'forklaring', 'loddefjordveien', 'tilhold']\n",
      "\n",
      "\n",
      "OBS: This has several words that occur in the description of missing subjects!!!\n"
     ]
    }
   ],
   "source": [
    "# What are the \"unknown\" words?\n",
    "unknown = [w for w in tweets.vocab.stoi.keys() if tweets.vocab.stoi[w] == 0]\n",
    "print(unknown[:100])\n",
    "print(\"\\n\\nOBS: This has several words that occur in the description of missing subjects!!!\")"
   ]
  },
  {
   "cell_type": "code",
   "execution_count": 13,
   "metadata": {
    "ExecuteTime": {
     "end_time": "2019-12-10T05:40:31.391818Z",
     "start_time": "2019-12-10T05:40:29.354821Z"
    }
   },
   "outputs": [
    {
     "data": {
      "text/plain": [
       "['xxunk',\n",
       " 'xxpad',\n",
       " 'xxbos',\n",
       " 'xxeos',\n",
       " 'xxfld',\n",
       " 'xxmaj',\n",
       " 'xxup',\n",
       " 'xxrep',\n",
       " 'xxwrep',\n",
       " '.',\n",
       " 'i',\n",
       " ',',\n",
       " 'er',\n",
       " 'på',\n",
       " 'og',\n",
       " 'har',\n",
       " 'til',\n",
       " 'en',\n",
       " 'av',\n",
       " 'med']"
      ]
     },
     "execution_count": 13,
     "metadata": {},
     "output_type": "execute_result"
    }
   ],
   "source": [
    "# What are the most frequent tokens?\n",
    "tweets.vocab.itos[:20]"
   ]
  },
  {
   "cell_type": "code",
   "execution_count": 14,
   "metadata": {
    "ExecuteTime": {
     "end_time": "2019-12-10T05:40:33.346824Z",
     "start_time": "2019-12-10T05:40:31.394820Z"
    }
   },
   "outputs": [
    {
     "data": {
      "text/plain": [
       "Counter({2: 1,\n",
       "         34: 1,\n",
       "         625: 1,\n",
       "         9: 4,\n",
       "         5: 5,\n",
       "         0: 5,\n",
       "         11: 5,\n",
       "         429: 1,\n",
       "         626: 1,\n",
       "         113: 1,\n",
       "         366: 1,\n",
       "         501: 1,\n",
       "         627: 1,\n",
       "         207: 1,\n",
       "         71: 1,\n",
       "         13: 1,\n",
       "         172: 1,\n",
       "         367: 1})"
      ]
     },
     "execution_count": 14,
     "metadata": {},
     "output_type": "execute_result"
    }
   ],
   "source": [
    "# In the document-term matrix creation we use the Counter class. It resembles a dict mapping token ids\n",
    "# to the number of times the token has occurred in a document. Example:\n",
    "Counter(tweets.train.x[0].data)"
   ]
  },
  {
   "cell_type": "code",
   "execution_count": 15,
   "metadata": {
    "ExecuteTime": {
     "end_time": "2019-12-10T05:40:35.317823Z",
     "start_time": "2019-12-10T05:40:33.350821Z"
    }
   },
   "outputs": [],
   "source": [
    "def get_doc_term_matrix(label_list, vocab_len):\n",
    "    j_indices = []\n",
    "    indptr = []\n",
    "    values = []\n",
    "    indptr.append(0)\n",
    "\n",
    "    for i, doc in enumerate(label_list):\n",
    "        feature_counter = Counter(doc.data)\n",
    "        j_indices.extend(feature_counter.keys())\n",
    "        values.extend(feature_counter.values())\n",
    "        indptr.append(len(j_indices))\n",
    "        \n",
    "#     return (values, j_indices, indptr)\n",
    "\n",
    "    return scipy.sparse.csr_matrix((values, j_indices, indptr),\n",
    "                                   shape=(len(indptr) - 1, vocab_len),\n",
    "                                   dtype=int)"
   ]
  },
  {
   "cell_type": "code",
   "execution_count": 16,
   "metadata": {
    "ExecuteTime": {
     "end_time": "2019-12-10T05:40:37.038821Z",
     "start_time": "2019-12-10T05:40:35.320823Z"
    }
   },
   "outputs": [
    {
     "name": "stdout",
     "output_type": "stream",
     "text": [
      "Wall time: 42 ms\n"
     ]
    }
   ],
   "source": [
    "%%time\n",
    "doc_term_train = get_doc_term_matrix(tweets.train.x, len(tweets.vocab.itos))\n",
    "doc_term_valid = get_doc_term_matrix(tweets.valid.x, len(tweets.vocab.itos))"
   ]
  },
  {
   "cell_type": "code",
   "execution_count": 17,
   "metadata": {
    "ExecuteTime": {
     "end_time": "2019-12-10T05:40:38.710821Z",
     "start_time": "2019-12-10T05:40:37.042822Z"
    }
   },
   "outputs": [
    {
     "data": {
      "text/plain": [
       "((656, 800), (163, 800))"
      ]
     },
     "execution_count": 17,
     "metadata": {},
     "output_type": "execute_result"
    }
   ],
   "source": [
    "doc_term_train.shape, doc_term_valid.shape"
   ]
  },
  {
   "cell_type": "code",
   "execution_count": 18,
   "metadata": {
    "ExecuteTime": {
     "end_time": "2019-12-10T05:40:40.389817Z",
     "start_time": "2019-12-10T05:40:38.717818Z"
    }
   },
   "outputs": [],
   "source": [
    "x_train = doc_term_train\n",
    "y_train = tweets.train.y\n",
    "y_valid = tweets.valid.y"
   ]
  },
  {
   "cell_type": "code",
   "execution_count": 19,
   "metadata": {
    "ExecuteTime": {
     "end_time": "2019-12-10T05:40:42.027825Z",
     "start_time": "2019-12-10T05:40:40.392818Z"
    }
   },
   "outputs": [
    {
     "data": {
      "text/plain": [
       "[0, 1]"
      ]
     },
     "execution_count": 19,
     "metadata": {},
     "output_type": "execute_result"
    }
   ],
   "source": [
    "tweets.y.classes"
   ]
  },
  {
   "cell_type": "markdown",
   "metadata": {},
   "source": [
    "## Log-count ratio"
   ]
  },
  {
   "cell_type": "code",
   "execution_count": 20,
   "metadata": {
    "ExecuteTime": {
     "end_time": "2019-12-10T05:40:43.709817Z",
     "start_time": "2019-12-10T05:40:42.031825Z"
    }
   },
   "outputs": [
    {
     "data": {
      "text/plain": [
       "array([-0.30498 ,  0.024317,  0.      ,  0.024317, ...,  0.024317,  0.024317,  0.024317,  0.024317])"
      ]
     },
     "execution_count": 20,
     "metadata": {},
     "output_type": "execute_result"
    }
   ],
   "source": [
    "positive = 1\n",
    "negative = 0\n",
    "\n",
    "p1 = np.squeeze(np.asarray(x_train[y_train.items==positive].sum(0)))\n",
    "p0 = np.squeeze(np.asarray(x_train[y_train.items==negative].sum(0)))\n",
    "\n",
    "pr1 = (p1+1) / ((y_train.items==positive).sum() + 1)\n",
    "pr0 = (p0+1) / ((y_train.items==negative).sum() + 1)\n",
    "\n",
    "r = np.log(pr1/pr0); r"
   ]
  },
  {
   "cell_type": "code",
   "execution_count": 21,
   "metadata": {
    "ExecuteTime": {
     "end_time": "2019-12-10T05:40:45.403825Z",
     "start_time": "2019-12-10T05:40:43.714822Z"
    }
   },
   "outputs": [],
   "source": [
    "biggest = np.argpartition(r, -10)[-10:]\n",
    "smallest = np.argpartition(r, 10)[:10]"
   ]
  },
  {
   "cell_type": "code",
   "execution_count": 22,
   "metadata": {
    "ExecuteTime": {
     "end_time": "2019-12-10T05:40:47.195819Z",
     "start_time": "2019-12-10T05:40:45.406818Z"
    }
   },
   "outputs": [
    {
     "name": "stdout",
     "output_type": "stream",
     "text": [
      "Terms with highest scores:\n"
     ]
    },
    {
     "data": {
      "text/plain": [
       "[('fast', 234),\n",
       " ('hår', 107),\n",
       " ('redningsaksjonen', 208),\n",
       " ('redningsaksjon', 90),\n",
       " ('kors', 49),\n",
       " ('fjellet', 74),\n",
       " ('sakna', 178),\n",
       " ('avsluttes', 184),\n",
       " ('leteaksjon', 201),\n",
       " ('røde', 48)]"
      ]
     },
     "execution_count": 22,
     "metadata": {},
     "output_type": "execute_result"
    }
   ],
   "source": [
    "print(\"Terms with highest scores:\")\n",
    "[(tweets.vocab.itos[k], k) for k in biggest]"
   ]
  },
  {
   "cell_type": "markdown",
   "metadata": {},
   "source": [
    "Note the double entries \"savnede\"/\"saknet\" and \"redningsaksjon\"/\"redningsaksjonen\". The second would go away with stemming, the first with a translation to only bokmål words."
   ]
  },
  {
   "cell_type": "code",
   "execution_count": 23,
   "metadata": {
    "ExecuteTime": {
     "end_time": "2019-12-10T05:40:48.963851Z",
     "start_time": "2019-12-10T05:40:47.201819Z"
    }
   },
   "outputs": [
    {
     "data": {
      "text/plain": [
       "(0.49390243902439024, 0.5060975609756098)"
      ]
     },
     "execution_count": 23,
     "metadata": {},
     "output_type": "execute_result"
    }
   ],
   "source": [
    "(y_train.items==positive).mean(), (y_train.items==negative).mean()"
   ]
  },
  {
   "cell_type": "code",
   "execution_count": null,
   "metadata": {
    "ExecuteTime": {
     "end_time": "2019-12-07T14:08:58.331731Z",
     "start_time": "2019-12-07T14:08:55.790069Z"
    }
   },
   "outputs": [],
   "source": []
  },
  {
   "cell_type": "code",
   "execution_count": 24,
   "metadata": {
    "ExecuteTime": {
     "end_time": "2019-12-10T05:40:50.661818Z",
     "start_time": "2019-12-10T05:40:48.966818Z"
    }
   },
   "outputs": [],
   "source": [
    "# Defined differently from fastai-course notebook to make it clear what is done. Gives same value.\n",
    "b = np.log(np.count_nonzero(y_train.items==positive)/ np.count_nonzero(y_train.items==negative))"
   ]
  },
  {
   "cell_type": "code",
   "execution_count": 25,
   "metadata": {
    "ExecuteTime": {
     "end_time": "2019-12-10T05:40:52.316822Z",
     "start_time": "2019-12-10T05:40:50.664817Z"
    }
   },
   "outputs": [],
   "source": [
    "pred_train = (doc_term_train @ r + b) > 0\n",
    "pred_valid = (doc_term_valid @ r + b) > 0"
   ]
  },
  {
   "cell_type": "code",
   "execution_count": 26,
   "metadata": {
    "ExecuteTime": {
     "end_time": "2019-12-10T05:40:54.190818Z",
     "start_time": "2019-12-10T05:40:52.319817Z"
    }
   },
   "outputs": [
    {
     "data": {
      "text/plain": [
       "(0.9359756097560976, 0.8834355828220859)"
      ]
     },
     "execution_count": 26,
     "metadata": {},
     "output_type": "execute_result"
    }
   ],
   "source": [
    "(pred_train == y_train.items).mean(), (pred_valid == y_valid.items).mean()"
   ]
  },
  {
   "cell_type": "code",
   "execution_count": null,
   "metadata": {
    "ExecuteTime": {
     "end_time": "2019-12-07T17:04:00.668357Z",
     "start_time": "2019-12-07T17:03:59.073082Z"
    }
   },
   "outputs": [],
   "source": []
  },
  {
   "cell_type": "code",
   "execution_count": 27,
   "metadata": {
    "ExecuteTime": {
     "end_time": "2019-12-10T05:40:55.962827Z",
     "start_time": "2019-12-10T05:40:54.199821Z"
    }
   },
   "outputs": [
    {
     "name": "stdout",
     "output_type": "stream",
     "text": [
      "Predicted  False  True  All\n",
      "Actual                     \n",
      "0             76     1   77\n",
      "1             18    68   86\n",
      "All           94    69  163\n"
     ]
    }
   ],
   "source": [
    "def print_confusion_matrix(y_true, y_pred):\n",
    "    print(pd.crosstab(y_true, y_pred, rownames=['Actual'], colnames=['Predicted'], margins=True))\n",
    "\n",
    "print_confusion_matrix(y_valid.items, pred_valid)"
   ]
  },
  {
   "cell_type": "code",
   "execution_count": 28,
   "metadata": {
    "ExecuteTime": {
     "end_time": "2019-12-10T05:40:57.621821Z",
     "start_time": "2019-12-10T05:40:55.968821Z"
    }
   },
   "outputs": [],
   "source": [
    "def sigmoid(x):\n",
    "    return 1 / (1 + math.exp(-x))\n",
    "prob_valid = [sigmoid(x) for x in doc_term_valid @ r + b]\n",
    "fpr, tpr, thresholds = metrics.roc_curve(y_valid.items, prob_valid)\n",
    "roc_auc = metrics.auc(fpr, tpr)"
   ]
  },
  {
   "cell_type": "code",
   "execution_count": 29,
   "metadata": {
    "ExecuteTime": {
     "end_time": "2019-12-10T05:40:59.724819Z",
     "start_time": "2019-12-10T05:40:57.624819Z"
    }
   },
   "outputs": [
    {
     "data": {
      "image/png": "[encoded data removed]",
      "text/plain": [
       "<Figure size 432x288 with 1 Axes>"
      ]
     },
     "metadata": {
      "needs_background": "light"
     },
     "output_type": "display_data"
    }
   ],
   "source": [
    "plt.figure(1)\n",
    "plt.plot([0, 1], [0, 1], 'k--')\n",
    "plt.plot(fpr, tpr, label='naive Bayes')\n",
    "for i in range(1, len(fpr), 3):\n",
    "    x, y, val = fpr[i], tpr[i], thresholds[i]\n",
    "    plt.annotate(np.round(val, 2), (x, y-0.04))\n",
    "    plt.annotate(i, (x, y+0.04))\n",
    "plt.xlabel('False positive rate')\n",
    "plt.ylabel('True positive rate')\n",
    "plt.title(f'ROC curve (AUC={roc_auc:4.2f})')\n",
    "plt.legend(loc='best')\n",
    "plt.show()"
   ]
  },
  {
   "cell_type": "markdown",
   "metadata": {},
   "source": [
    "Based on the above, we choose threshold = 0.08; any prediction higher than that is considered positive."
   ]
  },
  {
   "cell_type": "code",
   "execution_count": 30,
   "metadata": {
    "ExecuteTime": {
     "end_time": "2019-12-10T05:41:01.629827Z",
     "start_time": "2019-12-10T05:40:59.728822Z"
    }
   },
   "outputs": [
    {
     "name": "stdout",
     "output_type": "stream",
     "text": [
      "Threshold:  0.5\n",
      "f1-score: 0.877\n",
      "Predicted  False  True  All\n",
      "Actual                     \n",
      "0             76     1   77\n",
      "1             18    68   86\n",
      "All           94    69  163\n",
      "\n",
      "Threshold: 0.08\n",
      "f1-score: 0.930\n",
      "Predicted  False  True  All\n",
      "Actual                     \n",
      "0             71     6   77\n",
      "1              6    80   86\n",
      "All           77    86  163\n",
      "\n"
     ]
    }
   ],
   "source": [
    "threshold = 0.08\n",
    "\n",
    "for tt in [0.5, threshold]:\n",
    "    pred = np.array(prob_valid) > tt\n",
    "    print(f\"Threshold: {tt:4.2}\")\n",
    "    print(f\"f1-score: {metrics.f1_score(y_valid.items, pred):5.3f}\")\n",
    "    print_confusion_matrix(y_valid.items, pred)\n",
    "    print()"
   ]
  },
  {
   "cell_type": "code",
   "execution_count": 31,
   "metadata": {
    "ExecuteTime": {
     "end_time": "2019-12-10T05:41:03.504879Z",
     "start_time": "2019-12-10T05:41:01.633821Z"
    }
   },
   "outputs": [
    {
     "name": "stdout",
     "output_type": "stream",
     "text": [
      "  1) expected: 0 actual: 1 xxbos xxmaj xxunk xxunk / xxmaj xxunk : xxmaj mann og kvinne går xxunk i veien , ingen xxunk og er xxunk , politiet er på vei\n",
      "  2) expected: 1 actual: 0 xxbos xxmaj vi søker etter en person som har vært saknet fra xxmaj xxunk siden xxunk xxmaj vedkommende xxmaj kjører en xxup xxunk xxunk sort av farge med xxunk : xxup xxunk . xxmaj xxunk xxunk xxunk på xxunk er i xxmaj bergen den xxunk xxmaj dersom denne bilen observeres , ring 02800 .\n",
      "  3) expected: 1 actual: 0 xxbos xxmaj ulykken har skjedd mellom xxmaj xxunk og xxmaj xxunk . xxmaj om bord i xxunk xxunk det seg også to xxunk . xxmaj xxunk blir xxunk av familien . xxmaj de er uskadd . xxmaj xxunk xxunk i sjøen , i tillegg er det flere xxunk som xxunk xxunk . xxmaj politiet xxunk xxunk .\n",
      "  4) expected: 0 actual: 1 xxbos xxmaj redningsskøyten vil xxunk å xxunk båten . xxmaj ambulanse har xxunk personen\n",
      "  5) expected: 0 actual: 1 xxbos xxmaj xxunk for i . xxmaj det pågår xxunk etter melding om mann i sjøen .\n",
      "  6) expected: 1 actual: 0 xxbos xxup rettelse : xxmaj xxunk xxunk observasjon av savnede xxmaj xxunk er xxunk xxunk . kl xxunk . xxmaj xxunk gikk da på xxunk over xxunk ved xxmaj xxunk xxunk , retning xxmaj xxunk .\n",
      "  7) expected: 0 actual: 1 xxbos xxmaj mann xxunk ned ca 6 meter frå xxunk , luftambulanse , ambulanse og politi på veg . xxmaj uvisst skadeomfang .\n",
      "  8) expected: 0 actual: 1 xxbos xxmaj kvinnen er borte .\n",
      "  9) expected: 0 actual: 1 xxbos xxmaj xxunk fremme med en kvinne som har xxunk ca 10 meter ned mot et xxunk . xxmaj bevisst og blir nå fraktet ut . xxmaj kvinnen er oppegående .\n",
      " 10) expected: 1 actual: 0 xxbos kl xxunk xxmaj mann funnen xxunk skada ved xxmaj xxunk . xxmaj mannen er funnen xxunk ein skrent . xxmaj ambulanse xxmaj luftambulanse og politi er på staden . xxmaj politiet xxunk og xxunk langt tyder det på at mannen har xxunk utfor xxunk . xxmaj mannen vert frakta til sjukehus med luftambulanse .\n",
      " 11) expected: 1 actual: 0 xxbos xxmaj helikopter har landet på xxmaj xxunk etter en xxunk over aktuelt xxunk . xxmaj noe xxunk i xxunk . xxmaj blir tatt en xxunk på xxunk den skadde skal xxunk ut .\n",
      " 12) expected: 1 actual: 0 xxbos xxmaj luftambulansen xxunk en person som xxunk mot land . xxmaj ligger i sjøen utenfor xxmaj xxunk xxunk . xxmaj ambulanse og politi er på xxunk .\n"
     ]
    }
   ],
   "source": [
    "# Check out which texts were wrongly diagnosed in the validation set.\n",
    "# Unfortunately the unmangled texts seem to no longer be available, and since the train/test split is done\n",
    "# within the fastai data structure, we cannot get back to the dataframe indices.\n",
    "\n",
    "counter = 0\n",
    "for i in range(len(tweets.valid.x)):\n",
    "    if bool(y_valid.items[i]) != bool(prob_valid[i] > threshold):\n",
    "        counter += 1\n",
    "        print(f\"{counter:3}) expected:\", y_valid.items[i], \"actual:\", int(prob_valid[i] > threshold), tweets.valid.x[i])\n",
    "        "
   ]
  },
  {
   "cell_type": "code",
   "execution_count": null,
   "metadata": {},
   "outputs": [],
   "source": []
  }
 ],
 "metadata": {
  "kernelspec": {
   "display_name": "Python 3",
   "language": "python",
   "name": "python3"
  },
  "language_info": {
   "codemirror_mode": {
    "name": "ipython",
    "version": 3
   },
   "file_extension": ".py",
   "mimetype": "text/x-python",
   "name": "python",
   "nbconvert_exporter": "python",
   "pygments_lexer": "ipython3",
   "version": "3.7.3"
  },
  "toc": {
   "base_numbering": 1,
   "nav_menu": {
    "height": "135px",
    "width": "322px"
   },
   "number_sections": true,
   "sideBar": true,
   "skip_h1_title": false,
   "title_cell": "Table of Contents",
   "title_sidebar": "Contents",
   "toc_cell": false,
   "toc_position": {},
   "toc_section_display": true,
   "toc_window_display": false
  },
  "varInspector": {
   "cols": {
    "lenName": 16,
    "lenType": 16,
    "lenVar": 40
   },
   "kernels_config": {
    "python": {
     "delete_cmd_postfix": "",
     "delete_cmd_prefix": "del ",
     "library": "var_list.py",
     "varRefreshCmd": "print(var_dic_list())"
    },
    "r": {
     "delete_cmd_postfix": ") ",
     "delete_cmd_prefix": "rm(",
     "library": "var_list.r",
     "varRefreshCmd": "cat(var_dic_list()) "
    }
   },
   "types_to_exclude": [
    "module",
    "function",
    "builtin_function_or_method",
    "instance",
    "_Feature"
   ],
   "window_display": false
  }
 },
 "nbformat": 4,
 "nbformat_minor": 4
}
